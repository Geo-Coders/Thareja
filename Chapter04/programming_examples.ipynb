{
 "cells": [
  {
   "attachments": {},
   "cell_type": "markdown",
   "metadata": {},
   "source": [
    "# 4.1\n",
    "Write a program to determine whether a person is eligible to vote"
   ]
  },
  {
   "cell_type": "code",
   "execution_count": 3,
   "metadata": {},
   "outputs": [
    {
     "name": "stdout",
     "output_type": "stream",
     "text": [
      "You are eligible to vote\n"
     ]
    }
   ],
   "source": [
    "input_age = int(input('Enter the age :'))\n",
    "if (input_age >= 18):\n",
    "    print('You are eligible to vote')\n",
    "  \n"
   ]
  },
  {
   "attachments": {},
   "cell_type": "markdown",
   "metadata": {},
   "source": [
    "# 4.2 \n",
    "Write a program to determine the character entered by the user"
   ]
  },
  {
   "cell_type": "code",
   "execution_count": 4,
   "metadata": {},
   "outputs": [
    {
     "name": "stdout",
     "output_type": "stream",
     "text": [
      "The user entered a white space character\n"
     ]
    }
   ],
   "source": [
    "char = input('press any key :')\n",
    "if char.isalpha():\n",
    "    print('The user has entered a character')\n",
    "if char.isdigit():\n",
    "    print('The user has entered a digit')\n",
    "if char.isspace():\n",
    "    print('The user entered a white space character')\n"
   ]
  },
  {
   "attachments": {},
   "cell_type": "markdown",
   "metadata": {},
   "source": [
    "# 4.3\n",
    "Write a program to determine whether a person is eligble to vote or not. if he is not eligble, display how many years are left to be eligble."
   ]
  },
  {
   "cell_type": "code",
   "execution_count": 7,
   "metadata": {},
   "outputs": [
    {
     "name": "stdout",
     "output_type": "stream",
     "text": [
      "You have to wait for another 6 years to cast your vote\n"
     ]
    }
   ],
   "source": [
    "age = int(input('Enter the age: '))\n",
    "if age >= 18:\n",
    "    print('You are eligible to vote')\n",
    "else:\n",
    "    yrs = 18 - age\n",
    "    print(f'You have to wait for another {yrs} years to cast your vote')\n"
   ]
  },
  {
   "attachments": {},
   "cell_type": "markdown",
   "metadata": {},
   "source": [
    "# 4.4\n",
    "Write a program to find larger of two numbers"
   ]
  },
  {
   "cell_type": "code",
   "execution_count": 2,
   "metadata": {},
   "outputs": [
    {
     "name": "stdout",
     "output_type": "stream",
     "text": [
      "Large = 21\n"
     ]
    }
   ],
   "source": [
    "first_num = int(input('Enter the value of the first number : '))\n",
    "second_num = int(input('Enter the value of second number : '))\n",
    "if first_num > second_num:\n",
    "    large = first_num\n",
    "else:\n",
    "    large = second_num\n",
    "print(f'Large = {large}')\n"
   ]
  },
  {
   "attachments": {},
   "cell_type": "markdown",
   "metadata": {},
   "source": [
    "# 4.5\n",
    "Write a program to find whether the given number is even or odd."
   ]
  },
  {
   "cell_type": "code",
   "execution_count": null,
   "metadata": {},
   "outputs": [],
   "source": [
    "num = int(input('Enter any number: '))\n",
    "if num % 2 == 0:\n",
    "    print(f'{num} is even')\n",
    "\n",
    "print(f'{num} is odd')\n"
   ]
  },
  {
   "attachments": {},
   "cell_type": "markdown",
   "metadata": {},
   "source": [
    "# 4.6\n",
    "Write a program to enter any character. if the entered character is in lowercase then convert it into uppercase and if it is an uppercase, the  convert it into lowercase\n"
   ]
  },
  {
   "cell_type": "code",
   "execution_count": 4,
   "metadata": {},
   "outputs": [
    {
     "name": "stdout",
     "output_type": "stream",
     "text": [
      "The user has entered a character with no special characters\n"
     ]
    }
   ],
   "source": [
    "ch = input('Enter any character : ')\n",
    "if ch.isspace() or ch.isdigit() or ch.isalnum or ch.isalpha():\n",
    "    print('The user has entered a character with no special characters')\n",
    "elif ch.isupper():\n",
    "    ch = ch.lower()\n",
    "    print(f'The entered character was in uppercase. In lowercase it is : {ch}')\n",
    "else:\n",
    "    ch = ch.upper()\n",
    "    print(f'The entered character was in lowercase. In uppercase it is : {ch}')\n"
   ]
  },
  {
   "attachments": {},
   "cell_type": "markdown",
   "metadata": {},
   "source": [
    "# 4.7\n",
    "A  company decides to give bonus to all its employees on Diwali. A 5% bonus on salary is given to the male workers and 10% bonus on salary to female workers.\n",
    "Write a program to enter the salay of the employees and sex of the employee. if the salary of the employee is less than $ 10,000 then the employee gets an extra 2% bonus on salary.\n",
    "Calculate the bonus that has to be given to the employee and display the salary that the employee will get."
   ]
  },
  {
   "cell_type": "code",
   "execution_count": 5,
   "metadata": {},
   "outputs": [
    {
     "name": "stdout",
     "output_type": "stream",
     "text": [
      "Salary = 1000\n",
      "Bonus = 100.0\n",
      "******************************\n",
      "Amount to be paid: 1100.0\n"
     ]
    }
   ],
   "source": [
    "ch= input('Enter the sex of the employee (m or F): ').lower()\n",
    "sal= int(input('Enter the salary of the employee: '))\n",
    "\n",
    "if ch == 'm':\n",
    "    bonus= 0.05 * sal\n",
    "bonus= 0.10 * sal\n",
    "\n",
    "amt_to_be_paid= sal + bonus\n",
    "\n",
    "print(f'Salary = {sal}')\n",
    "print(f'Bonus = {bonus}')\n",
    "print('*' * 30)\n",
    "print(f'Amount to be paid: {amt_to_be_paid}')"
   ]
  },
  {
   "attachments": {},
   "cell_type": "markdown",
   "metadata": {},
   "source": [
    "# 4.8\n",
    "Write a program to find whether a given year is leap year or not"
   ]
  },
  {
   "cell_type": "code",
   "execution_count": 6,
   "metadata": {},
   "outputs": [
    {
     "name": "stdout",
     "output_type": "stream",
     "text": [
      "Leap Year\n"
     ]
    }
   ],
   "source": [
    "year = int(input('Enter any year : '))\n",
    "if year % 4 == 0 and year % 100 != 0 or year % 400 == 0:\n",
    "    print('Leap Year')\n",
    "else:\n",
    "    print('Not a Leap Year')    "
   ]
  },
  {
   "attachments": {},
   "cell_type": "markdown",
   "metadata": {},
   "source": [
    "# 4.9\n",
    "Write a program to determine whether the character entered is a vowel or not.\n"
   ]
  },
  {
   "cell_type": "code",
   "execution_count": 7,
   "metadata": {},
   "outputs": [
    {
     "name": "stdout",
     "output_type": "stream",
     "text": [
      "j is a consonant\n"
     ]
    }
   ],
   "source": [
    "ch = input('Enter any character: ').lower()\n",
    "if ch in ['a', 'e', 'i', 'o', 'u']:\n",
    "    print(f'{ch} is a vowel')\n",
    "\n",
    "print(f'{ch} is a consonant')\n"
   ]
  },
  {
   "attachments": {},
   "cell_type": "markdown",
   "metadata": {},
   "source": [
    "# 4.10\n",
    "Write a program to find the greatest number from three numbers"
   ]
  },
  {
   "cell_type": "code",
   "execution_count": 12,
   "metadata": {},
   "outputs": [
    {
     "name": "stdout",
     "output_type": "stream",
     "text": [
      "5\n"
     ]
    }
   ],
   "source": [
    "num1 = int(input('Enter the first number : '))\n",
    "num2 = int(input('Enter the second number : '))\n",
    "num3 = int(input('Enter the third number : '))\n",
    "if num1 > num2 and num1 > num3:\n",
    "    print(num1)\n",
    "elif num2 > num3 and num2 > num1 :\n",
    "    print(num2)\n",
    "else:\n",
    "    print(num3)\n"
   ]
  },
  {
   "attachments": {},
   "cell_type": "markdown",
   "metadata": {},
   "source": [
    "# 4.11\n",
    "Write a program that prompts the user to enter a number between 1-7 and then displays the corresponding day of the week"
   ]
  },
  {
   "cell_type": "code",
   "execution_count": 14,
   "metadata": {},
   "outputs": [
    {
     "name": "stdout",
     "output_type": "stream",
     "text": [
      "Wednesday\n"
     ]
    }
   ],
   "source": [
    "def get_day_of_week(day_num: int) -> str:\n",
    "    days_of_week = {\n",
    "        1: \"Monday\",\n",
    "        2: \"Tuesday\",\n",
    "        3: \"Wednesday\",\n",
    "        4: \"Thursday\",\n",
    "        5: \"Friday\",\n",
    "        6: \"Saturday\",\n",
    "        7: \"Sunday\"\n",
    "    }\n",
    "    return days_of_week.get(day_num, \"Invalid input\")\n",
    "\n",
    "\n",
    "# Taking input from user\n",
    "day_num = int(input(\"Enter a number between 1-7: \"))\n",
    "\n",
    "# Calling the function to get the day of the week\n",
    "day_of_week = get_day_of_week(day_num)\n",
    "\n",
    "# Displaying the result\n",
    "print(day_of_week)\n"
   ]
  },
  {
   "attachments": {},
   "cell_type": "markdown",
   "metadata": {},
   "source": [
    "In this program, we first define a function get_day_of_week that takes a parameter day_num and returns the corresponding day of the week. \n",
    "   The days of the week are stored in a dictionary days_of_week. The .get method is used to get the value of a given key from the dictionary, and returns \"Invalid input\" if the key is not found.\n",
    "   The program then takes input from the user and converts it to an integer using the int function. The input is passed to the get_day_of_week function, and the result is stored in the variable day_of_week. \n",
    "   Finally, the result is displayed using the print function."
   ]
  },
  {
   "attachments": {},
   "cell_type": "markdown",
   "metadata": {},
   "source": [
    "# 4.12\n",
    "Write a program to calculate tax given the following conditions\n",
    "\n",
    "MIN1 = 150001\n",
    "MAX1 = 300000\n",
    "RATE1 = 0.10\n",
    "MIN2 = 300001\n",
    "MAX2 = 500000\n",
    "RATE2 = 0.20\n",
    "MIN3 = 500001\n",
    "RATE3 = 0.30\n",
    "\n",
    "if income is less than MIN1 then no tax\n",
    "if taxable income is MIN1-MAX1 then charge 10% tax\n",
    "if taxable income is MIN2 - MAX2 then charge 20% tax\n",
    "if taxable income is above MIN3  then charge 30% tax"
   ]
  },
  {
   "cell_type": "code",
   "execution_count": 19,
   "metadata": {},
   "outputs": [
    {
     "name": "stdout",
     "output_type": "stream",
     "text": [
      "Tax: 3000.0\n"
     ]
    }
   ],
   "source": [
    "def calculate_tax(income):\n",
    "    MIN1 = 150001\n",
    "    MAX1 = 300000\n",
    "    RATE1 = 0.10\n",
    "    MIN2 = 300001\n",
    "    MAX2 = 500000\n",
    "    RATE2 = 0.20\n",
    "    MIN3 = 500001\n",
    "    RATE3 = 0.30\n",
    "\n",
    "    if income < MIN1:\n",
    "        return 0\n",
    "    elif income <= MAX1:\n",
    "        return (income - MIN1 + 1) * RATE1\n",
    "    elif income <= MAX2:\n",
    "        return (income - MIN2 + 1) * RATE2 + (MAX1 - MIN1 + 1) * RATE1\n",
    "    else:\n",
    "        return (income - MIN3 + 1) * RATE3 + (MAX2 - MIN2 + 1) * RATE2 + (MAX1 - MIN1 + 1) * RATE1\n",
    "\n",
    "\n",
    "# Taking input from user\n",
    "income = int(input(\"Enter your income: \"))\n",
    "\n",
    "# Calculating tax\n",
    "tax = calculate_tax(income)\n",
    "\n",
    "# Displaying the result\n",
    "print(\"Tax:\", tax)\n"
   ]
  },
  {
   "attachments": {},
   "cell_type": "markdown",
   "metadata": {},
   "source": [
    "In this program, we first define a function calculate_tax that takes a parameter income and returns the calculated tax. The conditions are set using variables MIN1, MAX1, RATE1, MIN2, MAX2, RATE2, MIN3, and RATE3.\n",
    "\n",
    "The function uses an if-elif statement to check the income range and calculates the tax accordingly. The tax is calculated by subtracting the minimum income for the corresponding tax bracket from the actual income plus 1, multiplying it by the corresponding tax rate, and adding the tax from the lower brackets.\n",
    "\n",
    "The program then takes input from the user, converts it to an integer, and passes it to the calculate_tax function. The result is stored in the variable tax, and finally, the result is displayed using the print function."
   ]
  },
  {
   "attachments": {},
   "cell_type": "markdown",
   "metadata": {},
   "source": [
    "# 4.13\n",
    "Write a program to take input from the user and then check whether it is a number or a character. if it is a character, determine whether it is in uppercase or lowercase."
   ]
  },
  {
   "cell_type": "code",
   "execution_count": 22,
   "metadata": {},
   "outputs": [
    {
     "name": "stdout",
     "output_type": "stream",
     "text": [
      "The input is a lowercase character.\n"
     ]
    }
   ],
   "source": [
    "input_value = input(\"Enter a value: \")\n",
    "\n",
    "if input_value.isdigit():\n",
    "    print(\"The input is a number.\")\n",
    "else:\n",
    "    if input_value.isalpha():\n",
    "        if input_value.isupper():\n",
    "            print(\"The input is an uppercase character.\")\n",
    "        elif input_value.islower():\n",
    "            print(\"The input is a lowercase character.\")\n",
    "    else:\n",
    "        print(\"The input is not a number or a character.\")\n"
   ]
  },
  {
   "attachments": {},
   "cell_type": "markdown",
   "metadata": {},
   "source": [
    "In this program, we first take input from the user and store it in the input_value variable. Then, we use the isdigit method to check if the input is a number. If the input is a number, we print \"The input is a number.\"\n",
    "\n",
    "If the input is not a number, we use the isalpha method to check if the input is a character. If the input is a character, we use the isupper and islower methods to determine whether it is an uppercase or lowercase character, and print the corresponding message.\n",
    "\n",
    "If the input is not a number or a character, we print \"The input is not a number or a character.\""
   ]
  },
  {
   "attachments": {},
   "cell_type": "markdown",
   "metadata": {},
   "source": [
    "# 4.14\n",
    "Write a program to enter the marks of a student in four subjects. Then calculate the total and aggregate, and display the grade obtained by the student. \n",
    "If the student scores an aggregate greater than 75, then the grade is Distinction. If aggregate is 60>= and < 75, then  the grade is First Division. \n",
    "If aggregate is 50>= and <60, then the grade is Second Division. If aggregate is 40>= and<50, then the grade is Third Division. Else the grade is Fail"
   ]
  },
  {
   "cell_type": "code",
   "execution_count": 23,
   "metadata": {},
   "outputs": [
    {
     "name": "stdout",
     "output_type": "stream",
     "text": [
      "Total: 157\n",
      "Aggregate: 39.25\n",
      "Grade: Fail\n"
     ]
    }
   ],
   "source": [
    "# Taking input from user\n",
    "marks1 = int(input(\"Enter marks in subject 1: \"))\n",
    "marks2 = int(input(\"Enter marks in subject 2: \"))\n",
    "marks3 = int(input(\"Enter marks in subject 3: \"))\n",
    "marks4 = int(input(\"Enter marks in subject 4: \"))\n",
    "\n",
    "# Calculating total and aggregate\n",
    "total = marks1 + marks2 + marks3 + marks4\n",
    "aggregate = total / 4\n",
    "\n",
    "# Determine grade based on aggregate\n",
    "if aggregate >= 75:\n",
    "    grade = \"Distinction\"\n",
    "elif aggregate >= 60:\n",
    "    grade = \"First Division\"\n",
    "elif aggregate >= 50:\n",
    "    grade = \"Second Division\"\n",
    "elif aggregate >= 40:\n",
    "    grade = \"Third Division\"\n",
    "else:\n",
    "    grade = \"Fail\"\n",
    "\n",
    "# Displaying the result\n",
    "print(\"Total:\", total)\n",
    "print(\"Aggregate:\", aggregate)\n",
    "print(\"Grade:\", grade)\n"
   ]
  },
  {
   "attachments": {},
   "cell_type": "markdown",
   "metadata": {},
   "source": [
    "In this program, we take input from the user for marks in four subjects using the input function and store the values in the variables marks1, marks2, marks3, and marks4.\n",
    "\n",
    "We then calculate the total and aggregate by adding the marks of the four subjects and dividing by 4.\n",
    "\n",
    "Next, we use an if-elif-else block to determine the grade based on the aggregate. If the aggregate is greater than or equal to 75, the grade is \"Distinction\". If the aggregate is greater than or equal to 60 and less than 75, the grade is \"First Division\". If the aggregate is greater than or equal to 50 and less than 60, the grade is \"Second Division\". If the aggregate is greater than or equal to 40 and less than 50, the grade is \"Third Division\". If the aggregate is less than 40, the grade is \"Fail\".\n",
    "\n",
    "Finally, we print the total, aggregate, and grade."
   ]
  },
  {
   "attachments": {},
   "cell_type": "markdown",
   "metadata": {},
   "source": [
    "# 4.15\n",
    "Write a program to calculate roots of a quadritic equation"
   ]
  },
  {
   "cell_type": "code",
   "execution_count": 24,
   "metadata": {},
   "outputs": [
    {
     "name": "stdout",
     "output_type": "stream",
     "text": [
      "No real roots exist.\n"
     ]
    }
   ],
   "source": [
    "import math\n",
    "\n",
    "# Taking input from user\n",
    "a = float(input(\"Enter coefficient of x^2: \"))\n",
    "b = float(input(\"Enter coefficient of x: \"))\n",
    "c = float(input(\"Enter constant: \"))\n",
    "\n",
    "# Calculating discriminant\n",
    "d = (b**2) - (4 * a * c)\n",
    "\n",
    "# Checking if real roots exist\n",
    "if d >= 0:\n",
    "    # Calculating roots\n",
    "    root1 = (-b + math.sqrt(d)) / (2 * a)\n",
    "    root2 = (-b - math.sqrt(d)) / (2 * a)\n",
    "\n",
    "    # Displaying roots\n",
    "    print(\"Root 1:\", root1)\n",
    "    print(\"Root 2:\", root2)\n",
    "else:\n",
    "    print(\"No real roots exist.\")\n"
   ]
  },
  {
   "attachments": {},
   "cell_type": "markdown",
   "metadata": {},
   "source": [
    "In this program, we use the input function to take input from the user for the coefficients of x^2, x, and the constant. We store the values in the variables a, b, and c.\n",
    "\n",
    "Next, we use the equation for the discriminant d to calculate the discriminant. If the discriminant is greater than or equal to 0, it means that real roots exist.\n",
    "\n",
    "We then use the quadratic formula to calculate the roots of the equation and store the values in the variables root1 and root2.\n",
    "\n",
    "Finally, we print the roots. If the discriminant is less than 0, it means that no real roots exist, and we print a message accordingly."
   ]
  },
  {
   "attachments": {},
   "cell_type": "markdown",
   "metadata": {},
   "source": [
    "# 4.16\n",
    "Write a program to calculate the sum and average of first 10 numbers"
   ]
  },
  {
   "cell_type": "code",
   "execution_count": 27,
   "metadata": {},
   "outputs": [
    {
     "name": "stdout",
     "output_type": "stream",
     "text": [
      "Sum of first 10 numbers: 55\n",
      "Average of first 10 numbers: 5.5\n"
     ]
    }
   ],
   "source": [
    "# Initializing sum to 0\n",
    "sum = 0\n",
    "\n",
    "# Loop to calculate sum of first 10 numbers\n",
    "for i in range(1, 11):\n",
    "    sum += i\n",
    "\n",
    "# Calculating average\n",
    "average = sum / 10\n",
    "\n",
    "# Displaying sum and average\n",
    "print(\"Sum of first 10 numbers:\", sum)\n",
    "print(\"Average of first 10 numbers:\", average)\n"
   ]
  },
  {
   "attachments": {},
   "cell_type": "markdown",
   "metadata": {},
   "source": [
    "In this program, we initialize a variable sum to 0. We then use a for loop to calculate the sum of the first 10 numbers by looping through the range 1 to 10 and adding each number to the sum.\n",
    "\n",
    "Next, we calculate the average of the first 10 numbers by dividing the sum by 10.\n",
    "\n",
    "Finally, we print the sum and average of the first 10 numbers."
   ]
  },
  {
   "attachments": {},
   "cell_type": "markdown",
   "metadata": {},
   "source": [
    "# 4.17\n",
    "Write a program to print 20 horizontal asterisks(*)"
   ]
  },
  {
   "cell_type": "code",
   "execution_count": 28,
   "metadata": {},
   "outputs": [
    {
     "name": "stdout",
     "output_type": "stream",
     "text": [
      "********************"
     ]
    }
   ],
   "source": [
    "# Loop to print 20 asterisks\n",
    "for i in range(20):\n",
    "    print(\"*\", end=\"\")\n"
   ]
  },
  {
   "attachments": {},
   "cell_type": "markdown",
   "metadata": {},
   "source": [
    "In this program, we use a for loop to loop through the range 0 to 19. In each iteration, we print an asterisk (*) followed by an empty space (end=\"\") to print all the asterisks on the same line."
   ]
  },
  {
   "attachments": {},
   "cell_type": "markdown",
   "metadata": {},
   "source": [
    "# 4.18\n",
    "Write a program to calculate the sum of numbers from m to n"
   ]
  },
  {
   "cell_type": "code",
   "execution_count": 29,
   "metadata": {},
   "outputs": [
    {
     "name": "stdout",
     "output_type": "stream",
     "text": [
      "Sum of numbers from 8 to 18 is: 143\n"
     ]
    }
   ],
   "source": [
    "# Taking input from user\n",
    "m = int(input(\"Enter value of m: \"))\n",
    "n = int(input(\"Enter value of n: \"))\n",
    "\n",
    "# Initializing sum to 0\n",
    "sum = 0\n",
    "\n",
    "# Loop to calculate sum of numbers from m to n\n",
    "for i in range(m, n + 1):\n",
    "    sum += i\n",
    "\n",
    "# Displaying sum\n",
    "print(\"Sum of numbers from\", m, \"to\", n, \"is:\", sum)\n"
   ]
  },
  {
   "attachments": {},
   "cell_type": "markdown",
   "metadata": {},
   "source": [
    "In this program, we use the input function to take input from the user for m and n. We store the values in the variables m and n and convert them to int type using the int function.\n",
    "\n",
    "Next, we initialize a variable sum to 0. We then use a for loop to calculate the sum of the numbers from m to n by looping through the range m to n and adding each number to the sum.\n",
    "\n",
    "Finally, we print the sum of numbers from m to n."
   ]
  },
  {
   "attachments": {},
   "cell_type": "markdown",
   "metadata": {},
   "source": [
    "# 4.19\n",
    "Write a program to read the numbers until -1 is encountered. Also count the negative, positives, and zeroes entered by the user."
   ]
  },
  {
   "cell_type": "code",
   "execution_count": 30,
   "metadata": {},
   "outputs": [
    {
     "name": "stdout",
     "output_type": "stream",
     "text": [
      "Count of negative numbers: 1\n",
      "Count of positive numbers: 7\n",
      "Count of zero numbers: 1\n"
     ]
    }
   ],
   "source": [
    "# Initializing counters for negative, positive, and zero numbers\n",
    "negative_count = 0\n",
    "positive_count = 0\n",
    "zero_count = 0\n",
    "\n",
    "# Loop to read numbers until -1 is encountered\n",
    "num = int(input(\"Enter a number (Enter -1 to stop): \"))\n",
    "while num != -1:\n",
    "    if num < 0:\n",
    "        negative_count += 1\n",
    "    elif num > 0:\n",
    "        positive_count += 1\n",
    "    else:\n",
    "        zero_count += 1\n",
    "    num = int(input(\"Enter a number (Enter -1 to stop): \"))\n",
    "\n",
    "# Displaying count of negative, positive, and zero numbers\n",
    "print(\"Count of negative numbers:\", negative_count)\n",
    "print(\"Count of positive numbers:\", positive_count)\n",
    "print(\"Count of zero numbers:\", zero_count)\n"
   ]
  },
  {
   "attachments": {},
   "cell_type": "markdown",
   "metadata": {},
   "source": [
    "In this program, we initialize three variables negative_count, positive_count, and zero_count to store the count of negative, positive, and zero numbers, respectively.\n",
    "\n",
    "Next, we use a while loop to read numbers from the user until -1 is encountered. In each iteration, we use an if-elif statement to check if the number is negative, positive, or zero and increment the corresponding counter.\n",
    "\n",
    "Finally, we print the count of negative, positive, and zero numbers."
   ]
  },
  {
   "attachments": {},
   "cell_type": "markdown",
   "metadata": {},
   "source": [
    "# 4.20\n",
    "Write a program to read the numbers until -1 is encountered. Find the average of positive numbers and negative numbers entered by the user"
   ]
  },
  {
   "cell_type": "code",
   "execution_count": 31,
   "metadata": {},
   "outputs": [
    {
     "name": "stdout",
     "output_type": "stream",
     "text": [
      "Average of positive numbers: 2.5\n",
      "Average of negative numbers: -3.0\n"
     ]
    }
   ],
   "source": [
    "# Initializing counters and sums for negative and positive numbers\n",
    "negative_count = 0\n",
    "positive_count = 0\n",
    "negative_sum = 0\n",
    "positive_sum = 0\n",
    "\n",
    "# Loop to read numbers until -1 is encountered\n",
    "num = int(input(\"Enter a number (Enter -1 to stop): \"))\n",
    "while num != -1:\n",
    "    if num < 0:\n",
    "        negative_count += 1\n",
    "        negative_sum += num\n",
    "    elif num > 0:\n",
    "        positive_count += 1\n",
    "        positive_sum += num\n",
    "    num = int(input(\"Enter a number (Enter -1 to stop): \"))\n",
    "\n",
    "# Calculating and printing average of positive and negative numbers\n",
    "if positive_count > 0:\n",
    "    positive_avg = positive_sum / positive_count\n",
    "    print(\"Average of positive numbers:\", positive_avg)\n",
    "else:\n",
    "    print(\"No positive numbers entered\")\n",
    "\n",
    "if negative_count > 0:\n",
    "    negative_avg = negative_sum / negative_count\n",
    "    print(\"Average of negative numbers:\", negative_avg)\n",
    "else:\n",
    "    print(\"No negative numbers entered\")\n"
   ]
  },
  {
   "attachments": {},
   "cell_type": "markdown",
   "metadata": {},
   "source": [
    "In this program, we initialize four variables negative_count, positive_count, negative_sum, and positive_sum to store the count and sum of negative and positive numbers, respectively.\n",
    "\n",
    "Next, we use a while loop to read numbers from the user until -1 is encountered. In each iteration, we use an if-elif statement to check if the number is negative or positive and add it to the corresponding sum and increment the corresponding counter.\n",
    "\n",
    "Finally, we calculate and print the average of positive and negative numbers, if any were entered by the user. If no positive or negative numbers were entered, we display an appropriate message."
   ]
  },
  {
   "attachments": {},
   "cell_type": "markdown",
   "metadata": {},
   "source": [
    "# 4.21\n",
    "Write a program to find whether the given number is an Amstrong number or not.\n",
    "Hint: An Armstrong number of three digits is an integer such that the sum of the cubes of its digits is equal to the number itself. For example, 371 is Armstrong number since 3**3 + 7**3 + 1**3 = 371\n"
   ]
  },
  {
   "cell_type": "code",
   "execution_count": 32,
   "metadata": {},
   "outputs": [
    {
     "name": "stdout",
     "output_type": "stream",
     "text": [
      "56 is not an Armstrong number\n"
     ]
    }
   ],
   "source": [
    "# Function to calculate the number of digits in a given number\n",
    "def count_digits(num):\n",
    "    return len(str(num))\n",
    "\n",
    "# Function to check whether a given number is an Armstrong number or not\n",
    "def is_armstrong(num):\n",
    "    n = count_digits(num)\n",
    "    sum = 0\n",
    "    temp = num\n",
    "    while temp > 0:\n",
    "        digit = temp % 10\n",
    "        sum += digit ** n\n",
    "        temp //= 10\n",
    "    return sum == num\n",
    "\n",
    "# Taking input from the user\n",
    "num = int(input(\"Enter a number: \"))\n",
    "\n",
    "# Checking whether the given number is an Armstrong number or not\n",
    "if is_armstrong(num):\n",
    "    print(num, \"is an Armstrong number\")\n",
    "else:\n",
    "    print(num, \"is not an Armstrong number\")\n"
   ]
  },
  {
   "attachments": {},
   "cell_type": "markdown",
   "metadata": {},
   "source": [
    "In this program, we have defined two functions: count_digits and is_armstrong.\n",
    "\n",
    "The count_digits function takes a number as input and returns the number of digits in that number. To do this, we first convert the number to a string, and then find its length using the len function.\n",
    "\n",
    "The is_armstrong function takes a number as input and returns True if it is an Armstrong number, and False otherwise. To do this, we first find the number of digits in the number using the count_digits function, and store it in the n variable. Next, we initialize a variable sum to store the sum of the cubes of the digits of the number, and a variable temp to store a copy of the number.\n",
    "\n",
    "Then, we use a while loop to repeat the following steps until temp is zero:\n",
    "\n",
    "Extract the last digit of temp using the modulo operator (%) and store it in the digit variable.\n",
    "Add the cube of digit to sum.\n",
    "Update temp by removing the last digit using integer division (//).\n",
    "Finally, we return the result of the comparison between sum and num.\n",
    "\n",
    "In the main part of the program, we take an input number from the user, and then check whether it is an Armstrong number or not using the is_armstrong function. If it is an Armstrong number, we print a message saying so, otherwise, we print a message saying that it is not an Armstrong number."
   ]
  },
  {
   "attachments": {},
   "cell_type": "markdown",
   "metadata": {},
   "source": [
    "# 4.22\n",
    "Write a program to enter a decimal number. Calculate and display the binary equivalent of this number"
   ]
  },
  {
   "cell_type": "code",
   "execution_count": 33,
   "metadata": {},
   "outputs": [
    {
     "name": "stdout",
     "output_type": "stream",
     "text": [
      "Binary equivalent of 56 is 111000\n"
     ]
    }
   ],
   "source": [
    "def decimal_to_binary(decimal_num: int) -> str:\n",
    "    binary_num = \"\"\n",
    "    while decimal_num > 0:\n",
    "        binary_num = str(decimal_num % 2) + binary_num\n",
    "        decimal_num = decimal_num // 2\n",
    "    return binary_num\n",
    "\n",
    "\n",
    "decimal_num = int(input(\"Enter a decimal number: \"))\n",
    "binary_num = decimal_to_binary(decimal_num)\n",
    "print(\"Binary equivalent of\", decimal_num, \"is\", binary_num)\n"
   ]
  },
  {
   "attachments": {},
   "cell_type": "markdown",
   "metadata": {},
   "source": [
    "The code defines a function decimal_to_binary which takes a decimal number as input and returns its binary equivalent.\n",
    "\n",
    "The function uses a while loop which runs until the decimal number decimal_num is greater than 0. In each iteration of the loop, the remainder of decimal_num when divided by 2 is added to the beginning of the binary number string binary_num. The decimal number is then updated to be the integer division of itself by 2.\n",
    "\n",
    "After the loop terminates, the function returns the binary number string binary_num.\n",
    "\n",
    "The code then takes an input from the user as a decimal number, converts it to binary using the decimal_to_binary function, and prints the result."
   ]
  },
  {
   "attachments": {},
   "cell_type": "markdown",
   "metadata": {},
   "source": [
    "# 4.23\n",
    "Write a program to enter a binary number and convert it into decimal number"
   ]
  },
  {
   "cell_type": "code",
   "execution_count": 35,
   "metadata": {},
   "outputs": [
    {
     "name": "stdout",
     "output_type": "stream",
     "text": [
      "Decimal equivalent of 1101 is 13\n"
     ]
    }
   ],
   "source": [
    "def binary_to_decimal(binary_num: str) -> int:\n",
    "    decimal_num: int = 0\n",
    "    power: int = 0\n",
    "    for i in range(len(binary_num) - 1, -1, -1):\n",
    "        decimal_num += int(binary_num[i]) * (2 ** power)\n",
    "        power += 1\n",
    "    return decimal_num\n",
    "\n",
    "\n",
    "binary_num = input(\"Enter a binary number: \")\n",
    "decimal_num = binary_to_decimal(binary_num)\n",
    "print(\"Decimal equivalent of\", binary_num, \"is\", decimal_num)\n"
   ]
  },
  {
   "attachments": {},
   "cell_type": "markdown",
   "metadata": {},
   "source": [
    "# 4.24\n",
    "Write a program to read a character until a * is encountered. Also count the number of uppercase, lowercase, and numbers entered by the users"
   ]
  },
  {
   "cell_type": "code",
   "execution_count": 36,
   "metadata": {},
   "outputs": [
    {
     "name": "stdout",
     "output_type": "stream",
     "text": [
      "Enter * to quit\n",
      "Number of lowercase character are : 2\n",
      "Number of uppercase character are : 0\n",
      "Number of numerals are : 1\n"
     ]
    }
   ],
   "source": [
    "print('Enter * to quit')\n",
    "num_count = 0\n",
    "up_count = 0\n",
    "low_count = 0\n",
    "ch = input('Enter any character : ')\n",
    "\n",
    "while ch != '*':\n",
    "    if ch.isdigit():\n",
    "        num_count += 1\n",
    "    elif ch.islower():\n",
    "        low_count += 1\n",
    "    elif ch.isupper():\n",
    "        up_count += 1\n",
    "\n",
    "    ch = input('Enter any character : ')\n",
    "\n",
    "print(f'Number of lowercase character are : {low_count}')\n",
    "print(f'Number of uppercase character are : {up_count}')\n",
    "print(f'Number of numerals are : {num_count}')\n"
   ]
  },
  {
   "attachments": {},
   "cell_type": "markdown",
   "metadata": {},
   "source": [
    "# 4.25\n",
    "Write a program to enter a number and then calculate the sum of its digits"
   ]
  },
  {
   "cell_type": "code",
   "execution_count": null,
   "metadata": {},
   "outputs": [],
   "source": [
    "sumOfDigits = 0\n",
    "num = int(input('Enter the number: '))\n",
    "while num != 0:\n",
    "    temp = num % 10\n",
    "    sumOfDigits += temp\n",
    "    num = num // 10\n",
    "\n",
    "print(f'The sum of digits is: {sumOfDigits}')\n"
   ]
  },
  {
   "attachments": {},
   "cell_type": "markdown",
   "metadata": {},
   "source": [
    "# 4.26\n",
    "Write a program to calculate GCD of two numbers"
   ]
  },
  {
   "cell_type": "code",
   "execution_count": null,
   "metadata": {},
   "outputs": [],
   "source": [
    "def gcd(a, b):\n",
    "    while b != 0:\n",
    "        a, b = b, a % b\n",
    "    return a\n",
    "\n",
    "\n",
    "a = int(input(\"Enter the first number: \"))\n",
    "b = int(input(\"Enter the second number: \"))\n",
    "print(\"The GCD of\", a, \"and\", b, \"is\", gcd(a, b))\n"
   ]
  },
  {
   "attachments": {},
   "cell_type": "markdown",
   "metadata": {},
   "source": [
    "# 4.27\n",
    "Write a program to print the reverse of a number\n"
   ]
  },
  {
   "cell_type": "code",
   "execution_count": null,
   "metadata": {},
   "outputs": [],
   "source": [
    "num = int(input('Enter the number: '))\n",
    "print('The reversed number is: ')\n",
    "while num != 0:\n",
    "    temp = num % 10\n",
    "    print(temp, end='')\n",
    "    num = num // 10\n"
   ]
  },
  {
   "attachments": {},
   "cell_type": "markdown",
   "metadata": {},
   "source": [
    "# 4.28\n",
    "Write a program using a while loop that asks the user for a number, and prints a countdown from that number to zero\n"
   ]
  },
  {
   "cell_type": "code",
   "execution_count": null,
   "metadata": {},
   "outputs": [],
   "source": [
    "n = int(input('Enter the value of n : '))\n",
    "while n > 0:\n",
    "    print(n, end=' ')\n",
    "    n -= 1\n"
   ]
  },
  {
   "attachments": {},
   "cell_type": "markdown",
   "metadata": {},
   "source": [
    "# 4.29\n",
    "Write a program using for loop to calculate the average of first n natural numbers\n"
   ]
  },
  {
   "cell_type": "code",
   "execution_count": null,
   "metadata": {},
   "outputs": [],
   "source": [
    "n = int(input('Enter the value of n: '))\n",
    "avg = 0.0\n",
    "s = 0\n",
    "for i in range(1, n+1):\n",
    "    s += i\n",
    "\n",
    "avg = s / i\n",
    "\n",
    "print(f'The sum of first {n} natural numbers is {s}')\n",
    "print(f'The average of first {n} natural numbers is {avg}')\n"
   ]
  },
  {
   "attachments": {},
   "cell_type": "markdown",
   "metadata": {},
   "source": [
    "# 4.30\n",
    "Write a program to print the multiplication table of n, where n is entered by the user"
   ]
  },
  {
   "cell_type": "code",
   "execution_count": null,
   "metadata": {},
   "outputs": [],
   "source": [
    "n = int(input('Enter any number : '))\n",
    "print(f'Multiplication table of {n}')\n",
    "print('**************************************')\n",
    "for i in range(1, 11):\n",
    "    print(f'{n} X {i} = {n*i}')\n"
   ]
  },
  {
   "attachments": {},
   "cell_type": "markdown",
   "metadata": {},
   "source": [
    "# 4.31\n",
    "Write a program using for loop to print all the numbers from m-n thereby classifying them as even or odd."
   ]
  },
  {
   "cell_type": "code",
   "execution_count": null,
   "metadata": {},
   "outputs": [],
   "source": [
    "m = 1  # starting number\n",
    "n = 10  # ending number\n",
    "\n",
    "for num in range(m, n+1):\n",
    "    if num % 2 == 0:\n",
    "        print(num, \"is even\")\n",
    "    else:\n",
    "        print(num, \"is odd\")\n"
   ]
  },
  {
   "attachments": {},
   "cell_type": "markdown",
   "metadata": {},
   "source": [
    "# 4.32\n",
    "Write a program using for loop to calculate factorial of a number"
   ]
  },
  {
   "cell_type": "code",
   "execution_count": null,
   "metadata": {},
   "outputs": [],
   "source": [
    "n = 5  # number to calculate factorial of\n",
    "factorial = 1\n",
    "\n",
    "for i in range(1, n+1):\n",
    "    factorial *= i\n",
    "\n",
    "print(\"Factorial of\", n, \"is\", factorial)\n"
   ]
  },
  {
   "attachments": {},
   "cell_type": "markdown",
   "metadata": {},
   "source": [
    "In this program, we first define the number n that we want to calculate the factorial of, and initialize a variable factorial to 1. We then use a for loop that runs from 1 to n (inclusive of n), and for each value of i in the loop, we multiply factorial by i. Finally, we print the value of factorial.\n",
    "\n",
    "For example, if we set n to 5, the program will calculate the factorial of 5 as 5 * 4 * 3 * 2 * 1 = 120, and print \"Factorial of 5 is 120\"."
   ]
  }
 ],
 "metadata": {
  "kernelspec": {
   "display_name": "Python 3",
   "language": "python",
   "name": "python3"
  },
  "language_info": {
   "codemirror_mode": {
    "name": "ipython",
    "version": 3
   },
   "file_extension": ".py",
   "mimetype": "text/x-python",
   "name": "python",
   "nbconvert_exporter": "python",
   "pygments_lexer": "ipython3",
   "version": "3.11.1"
  },
  "orig_nbformat": 4,
  "vscode": {
   "interpreter": {
    "hash": "b98f472bb8ba48098397e3b897b5be76f7bf0e62d98845cdb0e8066dc5677259"
   }
  }
 },
 "nbformat": 4,
 "nbformat_minor": 2
}
