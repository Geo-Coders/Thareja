{
 "cells": [
  {
   "attachments": {},
   "cell_type": "markdown",
   "metadata": {},
   "source": [
    "4.31\n",
    "\n",
    "Write a program using for loop to print all the numbers from m-n thereby classifying them as even or odd.\n"
   ]
  },
  {
   "cell_type": "code",
   "execution_count": 1,
   "metadata": {},
   "outputs": [],
   "source": [
    "m= int(input('Enter the value of m: '))\n",
    "n= int(input('Enter the value of n: '))\n",
    "for i in range(m, n+1):\n",
    "    if i % 2 == 0:\n",
    "        print(f'{i} is even number')\n",
    "    else:\n",
    "        print(f'{i} is odd number')"
   ]
  },
  {
   "cell_type": "markdown",
   "metadata": {},
   "source": [
    "4.32\n",
    "\n",
    "Write a program using for loop to calculate factorial of a number"
   ]
  },
  {
   "cell_type": "code",
   "execution_count": 2,
   "metadata": {},
   "outputs": [
    {
     "name": "stdout",
     "output_type": "stream",
     "text": [
      "Factorial of 1 is 1\n"
     ]
    }
   ],
   "source": [
    "num = int(input('Enter the number : '))\n",
    "if num == 0:\n",
    "    fact = 1\n",
    "fact = 1\n",
    "for i in range(1, num + 1):\n",
    "    fact = fact * i\n",
    "print(f'Factorial of {num} is {fact}')"
   ]
  },
  {
   "attachments": {},
   "cell_type": "markdown",
   "metadata": {},
   "source": [
    "4.33 \n",
    "\n",
    " Write a program to classify a given number as prime or composite"
   ]
  },
  {
   "cell_type": "code",
   "execution_count": 3,
   "metadata": {},
   "outputs": [
    {
     "name": "stdout",
     "output_type": "stream",
     "text": [
      "5 is a prime number\n"
     ]
    }
   ],
   "source": [
    "number= int(input('Enter number: '))\n",
    "isComposite= 0\n",
    "for i in range(2, number):\n",
    "    if number % i == 0:\n",
    "        isComposite = 1\n",
    "        break\n",
    "\n",
    "if isComposite == 1:\n",
    "    print(f'{number} is a composite number')\n",
    "else:\n",
    "    print(f'{number} is a prime number')"
   ]
  },
  {
   "attachments": {},
   "cell_type": "markdown",
   "metadata": {},
   "source": [
    "4.34\n",
    "\n",
    "Write a program using while loop to read the numbers until -1 is encountered. Also, count the number of prime numbers and composite numbers encountered by the user"
   ]
  },
  {
   "cell_type": "code",
   "execution_count": 4,
   "metadata": {},
   "outputs": [
    {
     "ename": "ValueError",
     "evalue": "invalid literal for int() with base 10: ''",
     "output_type": "error",
     "traceback": [
      "\u001b[1;31m---------------------------------------------------------------------------\u001b[0m",
      "\u001b[1;31mValueError\u001b[0m                                Traceback (most recent call last)",
      "Cell \u001b[1;32mIn[4], line 5\u001b[0m\n\u001b[0;32m      2\u001b[0m total_composite \u001b[39m=\u001b[39m \u001b[39m0\u001b[39m\n\u001b[0;32m      4\u001b[0m \u001b[39mwhile\u001b[39;00m \u001b[39m1\u001b[39m:\n\u001b[1;32m----> 5\u001b[0m     num \u001b[39m=\u001b[39m \u001b[39mint\u001b[39;49m(\u001b[39minput\u001b[39;49m(\u001b[39m'\u001b[39;49m\u001b[39mEnter no : \u001b[39;49m\u001b[39m'\u001b[39;49m))\n\u001b[0;32m      6\u001b[0m     \u001b[39mif\u001b[39;00m num \u001b[39m==\u001b[39m \u001b[39m-\u001b[39m\u001b[39m1\u001b[39m:\n\u001b[0;32m      7\u001b[0m         \u001b[39mbreak\u001b[39;00m\n",
      "\u001b[1;31mValueError\u001b[0m: invalid literal for int() with base 10: ''"
     ]
    }
   ],
   "source": [
    "total_prime = 0\n",
    "total_composite = 0\n",
    "\n",
    "while 1:\n",
    "    num = int(input('Enter no : '))\n",
    "    if num == -1:\n",
    "        break\n",
    "    is_composite = 0\n",
    "    for i in range(2, num):\n",
    "        if num % i == 0:\n",
    "            is_composite = 1\n",
    "            break\n",
    "    if is_composite:\n",
    "        total_composite += 1\n",
    "    else:\n",
    "        total_prime += 1\n",
    "print(f'total composite {total_composite}')\n",
    "print(f'total prime {total_prime}')"
   ]
  },
  {
   "attachments": {},
   "cell_type": "markdown",
   "metadata": {},
   "source": [
    "4.35\n",
    "\n",
    "Write a program to calculate pow(x,n)"
   ]
  },
  {
   "cell_type": "code",
   "execution_count": null,
   "metadata": {},
   "outputs": [],
   "source": [
    "num= int(input('Enter the number: '))\n",
    "n= int(input('Till which power to calculate: '))\n",
    "result= 1\n",
    "for i in range(n):\n",
    "    result *= num\n",
    "\n",
    "print(f'{num} raised to the power {n} is {result}')\n"
   ]
  },
  {
   "attachments": {},
   "cell_type": "markdown",
   "metadata": {},
   "source": [
    "4.36 \n",
    "\n",
    "write a program that displays all leap years from 1900 - 2101"
   ]
  },
  {
   "cell_type": "code",
   "execution_count": null,
   "metadata": {},
   "outputs": [
    {
     "name": "stdout",
     "output_type": "stream",
     "text": [
      "Leap years from 1900 - 2101 are : \n",
      "1900 1904 1908 1912 1916 1920 1924 1928 1932 1936 1940 1944 1948 1952 1956 1960 1964 1968 1972 1976 1980 1984 1988 1992 1996 2000 2004 2008 2012 2016 2020 2024 2028 2032 2036 2040 2044 2048 2052 2056 2060 2064 2068 2072 2076 2080 2084 2088 2092 2096 2100 "
     ]
    }
   ],
   "source": [
    "print('Leap years from 1900 - 2101 are : ')\n",
    "for i in range (1900, 2101):\n",
    "    if i % 4 ==0:\n",
    "        print(i, end = ' ')"
   ]
  },
  {
   "attachments": {},
   "cell_type": "markdown",
   "metadata": {},
   "source": [
    "4.37\n",
    "\n",
    "Write a program to sum the series- 1 + 1/2 + ... + 1/n"
   ]
  },
  {
   "cell_type": "code",
   "execution_count": null,
   "metadata": {},
   "outputs": [
    {
     "ename": "ValueError",
     "evalue": "invalid literal for int() with base 10: ''",
     "output_type": "error",
     "traceback": [
      "\u001b[1;31m---------------------------------------------------------------------------\u001b[0m",
      "\u001b[1;31mValueError\u001b[0m                                Traceback (most recent call last)",
      "\u001b[1;32m<ipython-input-8-7c63c7debf65>\u001b[0m in \u001b[0;36m<module>\u001b[1;34m\u001b[0m\n\u001b[1;32m----> 1\u001b[1;33m \u001b[0mn\u001b[0m\u001b[1;33m=\u001b[0m \u001b[0mint\u001b[0m\u001b[1;33m(\u001b[0m\u001b[0minput\u001b[0m\u001b[1;33m(\u001b[0m\u001b[1;34m'Enter the number: '\u001b[0m\u001b[1;33m)\u001b[0m\u001b[1;33m)\u001b[0m\u001b[1;33m\u001b[0m\u001b[1;33m\u001b[0m\u001b[0m\n\u001b[0m\u001b[0;32m      2\u001b[0m \u001b[0ms\u001b[0m\u001b[1;33m=\u001b[0m \u001b[1;36m0.0\u001b[0m\u001b[1;33m\u001b[0m\u001b[1;33m\u001b[0m\u001b[0m\n\u001b[0;32m      3\u001b[0m \u001b[1;33m\u001b[0m\u001b[0m\n\u001b[0;32m      4\u001b[0m \u001b[1;32mfor\u001b[0m \u001b[0mi\u001b[0m \u001b[1;32min\u001b[0m \u001b[0mrange\u001b[0m\u001b[1;33m(\u001b[0m\u001b[1;36m1\u001b[0m\u001b[1;33m,\u001b[0m \u001b[0mn\u001b[0m\u001b[1;33m+\u001b[0m\u001b[1;36m1\u001b[0m\u001b[1;33m)\u001b[0m\u001b[1;33m:\u001b[0m\u001b[1;33m\u001b[0m\u001b[1;33m\u001b[0m\u001b[0m\n\u001b[0;32m      5\u001b[0m     \u001b[0ma\u001b[0m\u001b[1;33m=\u001b[0m \u001b[1;36m1.0\u001b[0m \u001b[1;33m//\u001b[0m \u001b[0mi\u001b[0m\u001b[1;33m\u001b[0m\u001b[1;33m\u001b[0m\u001b[0m\n",
      "\u001b[1;31mValueError\u001b[0m: invalid literal for int() with base 10: ''"
     ]
    }
   ],
   "source": [
    "n= int(input('Enter the number: '))\n",
    "s= 0.0\n",
    "\n",
    "for i in range(1, n+1):\n",
    "    a= 1.0 // i\n",
    "    s += a\n",
    "\n",
    "print(f'The sum of 1, 1/2,..., 1/{n} is {s}')"
   ]
  },
  {
   "attachments": {},
   "cell_type": "markdown",
   "metadata": {},
   "source": [
    "4.38\n",
    "\n",
    "Write a program to sum the series - 1 + 1/(2**2) + ...1/(n**2)"
   ]
  },
  {
   "cell_type": "code",
   "execution_count": null,
   "metadata": {},
   "outputs": [
    {
     "ename": "ValueError",
     "evalue": "invalid literal for int() with base 10: ''",
     "output_type": "error",
     "traceback": [
      "\u001b[1;31m---------------------------------------------------------------------------\u001b[0m",
      "\u001b[1;31mValueError\u001b[0m                                Traceback (most recent call last)",
      "\u001b[1;32m<ipython-input-7-0c91f7f8663f>\u001b[0m in \u001b[0;36m<module>\u001b[1;34m\u001b[0m\n\u001b[1;32m----> 1\u001b[1;33m \u001b[0mn\u001b[0m \u001b[1;33m=\u001b[0m \u001b[0mint\u001b[0m\u001b[1;33m(\u001b[0m\u001b[0minput\u001b[0m\u001b[1;33m(\u001b[0m\u001b[1;34m'Enter the number : '\u001b[0m\u001b[1;33m)\u001b[0m\u001b[1;33m)\u001b[0m\u001b[1;33m\u001b[0m\u001b[1;33m\u001b[0m\u001b[0m\n\u001b[0m\u001b[0;32m      2\u001b[0m \u001b[0ms\u001b[0m \u001b[1;33m=\u001b[0m \u001b[1;36m0.0\u001b[0m\u001b[1;33m\u001b[0m\u001b[1;33m\u001b[0m\u001b[0m\n\u001b[0;32m      3\u001b[0m \u001b[1;32mfor\u001b[0m \u001b[0mi\u001b[0m \u001b[1;32min\u001b[0m \u001b[0mrange\u001b[0m\u001b[1;33m(\u001b[0m\u001b[1;36m1\u001b[0m\u001b[1;33m,\u001b[0m \u001b[0mn\u001b[0m \u001b[1;33m+\u001b[0m \u001b[1;36m1\u001b[0m\u001b[1;33m)\u001b[0m\u001b[1;33m:\u001b[0m\u001b[1;33m\u001b[0m\u001b[1;33m\u001b[0m\u001b[0m\n\u001b[0;32m      4\u001b[0m     \u001b[0ma\u001b[0m \u001b[1;33m=\u001b[0m \u001b[1;36m1.0\u001b[0m\u001b[1;33m/\u001b[0m\u001b[1;33m(\u001b[0m\u001b[0mi\u001b[0m\u001b[1;33m**\u001b[0m\u001b[1;36m2\u001b[0m\u001b[1;33m)\u001b[0m\u001b[1;33m\u001b[0m\u001b[1;33m\u001b[0m\u001b[0m\n\u001b[0;32m      5\u001b[0m     \u001b[0ms\u001b[0m \u001b[1;33m=\u001b[0m \u001b[0ms\u001b[0m \u001b[1;33m+\u001b[0m \u001b[0ma\u001b[0m\u001b[1;33m\u001b[0m\u001b[1;33m\u001b[0m\u001b[0m\n",
      "\u001b[1;31mValueError\u001b[0m: invalid literal for int() with base 10: ''"
     ]
    }
   ],
   "source": [
    "n = int(input('Enter the number : '))\n",
    "s = 0.0\n",
    "for i in range(1, n + 1):\n",
    "    a = 1.0/(i**2)\n",
    "    s = s + a\n",
    "print(f'The sum of series is {s}')"
   ]
  },
  {
   "attachments": {},
   "cell_type": "markdown",
   "metadata": {},
   "source": [
    "4.39\n",
    "\n",
    "Write a program to sum the series -- 1/2 + 2/3 + ... + n/(n+1)"
   ]
  },
  {
   "cell_type": "code",
   "execution_count": null,
   "metadata": {},
   "outputs": [
    {
     "ename": "ValueError",
     "evalue": "invalid literal for int() with base 10: ''",
     "output_type": "error",
     "traceback": [
      "\u001b[1;31m---------------------------------------------------------------------------\u001b[0m",
      "\u001b[1;31mValueError\u001b[0m                                Traceback (most recent call last)",
      "\u001b[1;32m<ipython-input-9-2ef14ada575b>\u001b[0m in \u001b[0;36m<module>\u001b[1;34m\u001b[0m\n\u001b[1;32m----> 1\u001b[1;33m \u001b[0mn\u001b[0m\u001b[1;33m=\u001b[0m \u001b[0mint\u001b[0m\u001b[1;33m(\u001b[0m\u001b[0minput\u001b[0m\u001b[1;33m(\u001b[0m\u001b[1;34m'Enter the number: '\u001b[0m\u001b[1;33m)\u001b[0m\u001b[1;33m)\u001b[0m\u001b[1;33m\u001b[0m\u001b[1;33m\u001b[0m\u001b[0m\n\u001b[0m\u001b[0;32m      2\u001b[0m \u001b[0ms\u001b[0m\u001b[1;33m=\u001b[0m \u001b[1;36m0.0\u001b[0m\u001b[1;33m\u001b[0m\u001b[1;33m\u001b[0m\u001b[0m\n\u001b[0;32m      3\u001b[0m \u001b[1;33m\u001b[0m\u001b[0m\n\u001b[0;32m      4\u001b[0m \u001b[1;32mfor\u001b[0m \u001b[0mi\u001b[0m \u001b[1;32min\u001b[0m \u001b[0mrange\u001b[0m\u001b[1;33m(\u001b[0m\u001b[1;36m1\u001b[0m\u001b[1;33m,\u001b[0m \u001b[0mn\u001b[0m\u001b[1;33m+\u001b[0m\u001b[1;36m1\u001b[0m\u001b[1;33m)\u001b[0m\u001b[1;33m:\u001b[0m\u001b[1;33m\u001b[0m\u001b[1;33m\u001b[0m\u001b[0m\n\u001b[0;32m      5\u001b[0m     \u001b[0ma\u001b[0m\u001b[1;33m=\u001b[0m \u001b[0mfloat\u001b[0m\u001b[1;33m(\u001b[0m\u001b[0mi\u001b[0m\u001b[1;33m)\u001b[0m \u001b[1;33m/\u001b[0m \u001b[1;33m(\u001b[0m\u001b[0mi\u001b[0m \u001b[1;33m+\u001b[0m \u001b[1;36m1\u001b[0m\u001b[1;33m)\u001b[0m\u001b[1;33m\u001b[0m\u001b[1;33m\u001b[0m\u001b[0m\n",
      "\u001b[1;31mValueError\u001b[0m: invalid literal for int() with base 10: ''"
     ]
    }
   ],
   "source": [
    "n= int(input('Enter the number: '))\n",
    "s= 0.0\n",
    "\n",
    "for i in range(1, n+1):\n",
    "    a= float(i) / (i + 1)\n",
    "    s += a\n",
    "\n",
    "print(f'The sum of 1/2 + 2/3...n/(n+1) is {round(s,2)}')"
   ]
  },
  {
   "attachments": {},
   "cell_type": "markdown",
   "metadata": {},
   "source": [
    "4.40\n",
    "\n",
    "Write a program to sum the series- 1/1 + 2**2/2 + 3**3/3 +....+n**n/n"
   ]
  },
  {
   "cell_type": "code",
   "execution_count": null,
   "metadata": {},
   "outputs": [],
   "source": [
    "n = int(input('Enter the value of n : '))\n",
    "s = 0.0\n",
    "for i in range(1, n+1):\n",
    "    a = float(i**i)/i\n",
    "    s = s + a\n",
    "print(f'The sum of the series is {s}')"
   ]
  },
  {
   "attachments": {},
   "cell_type": "markdown",
   "metadata": {},
   "source": [
    "4.41\n",
    "\n",
    "Write a program to calculate sum of cubes of numbers from 1-n"
   ]
  },
  {
   "cell_type": "code",
   "execution_count": null,
   "metadata": {},
   "outputs": [],
   "source": [
    "n= int(input('Enter the value of n: '))\n",
    "s= 0\n",
    "for i in range(1, n+1):\n",
    "    a= i**3\n",
    "    s += a\n",
    "\n",
    "print(f'The sum of cubes is {s}')"
   ]
  },
  {
   "attachments": {},
   "cell_type": "markdown",
   "metadata": {},
   "source": [
    "4.42\n",
    "\n",
    "Write a program to sum the squares of even numbers"
   ]
  },
  {
   "cell_type": "code",
   "execution_count": null,
   "metadata": {},
   "outputs": [],
   "source": [
    "n = int(input('Enter the number : '))\n",
    "s = 0\n",
    "for i in range(1, n + 1):\n",
    "    if i % 2 == 0:\n",
    "        term = i**2\n",
    "    else:\n",
    "        term = 0\n",
    "    s = s + term\n",
    "print(f'The sum of squares of even numbers less than {n} is {s}')"
   ]
  },
  {
   "attachments": {},
   "cell_type": "markdown",
   "metadata": {},
   "source": [
    "4.43 \n",
    "\n",
    "Write a program using for loop to calculate the value of an investment.\n",
    "input an initial value of investment and annual interest, and calculate the value of investment over time"
   ]
  },
  {
   "cell_type": "code",
   "execution_count": null,
   "metadata": {},
   "outputs": [],
   "source": [
    "initVal= float(input('Enter the initial value: '))\n",
    "ROI= float(input('Enter the rate of interest: '))\n",
    "yrs= int(input('Enter the number of years for which investment has to be done: '))\n",
    "\n",
    "futureVal= initVal\n",
    "print('\\tYear \\t\\tValue')\n",
    "print('-' * 40)\n",
    "\n",
    "for i in range(1, yrs + 1):\n",
    "    futureVal *= (1 + ROI/100.0)\n",
    "    print(f'{i} \\t\\t {futureVal}')  "
   ]
  },
  {
   "attachments": {},
   "cell_type": "markdown",
   "metadata": {},
   "source": [
    "4.44\n",
    "\n",
    "Write a program to generate calendar of a month given the start_day and the number of days in that month"
   ]
  },
  {
   "cell_type": "code",
   "execution_count": null,
   "metadata": {},
   "outputs": [],
   "source": [
    "startDay = int(input('Enter the start day of month (1-7) : '))\n",
    "num_of_days = int(input('Enter number of days : '))\n",
    "print('Sun  Mon  Teu  Wed  Thur  Fri  Sat')\n",
    "print('--------------------------------------------')\n",
    "for i in range(startDay-1):\n",
    "    print(end = '    ')\n",
    "i = startDay-1\n",
    "for j in range(1, num_of_days + 1):\n",
    "    if i > 6:\n",
    "        print()\n",
    "        i = 1\n",
    "    else:\n",
    "        i = i + 1\n",
    "    print(str(j) +'   ', end = ' ')"
   ]
  },
  {
   "attachments": {},
   "cell_type": "markdown",
   "metadata": {},
   "source": [
    "4.45\n",
    "\n",
    "Write a program to print the following pattern\n",
    " Pass 1- 1 2 3 4 5\n",
    " Pass 2- 1 2 3 4 5\n",
    " Pass 3- 1 2 3 4 5\n",
    " Pass 4- 1 2 3 4 5\n",
    " Pass 5- 1 2 3 4 5"
   ]
  },
  {
   "cell_type": "code",
   "execution_count": 6,
   "metadata": {},
   "outputs": [
    {
     "name": "stdout",
     "output_type": "stream",
     "text": [
      "Pass 1- 1 2 3 4 5 \n",
      "Pass 2- 1 2 3 4 5 \n",
      "Pass 3- 1 2 3 4 5 \n",
      "Pass 4- 1 2 3 4 5 \n",
      "Pass 5- 1 2 3 4 5 \n"
     ]
    }
   ],
   "source": [
    "for i in range(1,6):\n",
    "    print(f'Pass {i}- ', end='')\n",
    "    for j in range(1,6):\n",
    "        print(f'{j}', end=' ')\n",
    "    print()"
   ]
  },
  {
   "attachments": {},
   "cell_type": "markdown",
   "metadata": {},
   "source": [
    "4.46\n",
    "\n",
    "Write a program to print the following pattern\n",
    "\n",
    "* * * * *\n",
    "* * * * *\n",
    "* * * * *\n",
    "* * * * *\n",
    "* * * * *\n"
   ]
  },
  {
   "cell_type": "code",
   "execution_count": 5,
   "metadata": {},
   "outputs": [
    {
     "name": "stdout",
     "output_type": "stream",
     "text": [
      "\n",
      "* * * * * \n",
      "* * * * * \n",
      "* * * * * \n",
      "* * * * * \n",
      "* * * * * "
     ]
    }
   ],
   "source": [
    "for i in range(5):\n",
    "     print()\n",
    "     for j in range(5):\n",
    "         print('*', end = ' ')"
   ]
  },
  {
   "attachments": {},
   "cell_type": "markdown",
   "metadata": {},
   "source": [
    "4.47\n",
    "\n",
    "Write a program to print the following pattern\n",
    " *\n",
    " **\n",
    " ***\n",
    " ****\n",
    " *****"
   ]
  },
  {
   "cell_type": "code",
   "execution_count": null,
   "metadata": {},
   "outputs": [],
   "source": [
    "for i in range(1,6):\n",
    "    print()\n",
    "    for j in range(i):\n",
    "        print('*', end=' ')"
   ]
  },
  {
   "attachments": {},
   "cell_type": "markdown",
   "metadata": {},
   "source": [
    "4.48\n",
    "\n",
    "Write a program to print the following pattern\n",
    "\n",
    "\n",
    "1\n",
    "1 2\n",
    "1 2 3\n",
    "1 2 3 4\n",
    "1 2 3 4 5\n",
    " "
   ]
  },
  {
   "cell_type": "code",
   "execution_count": null,
   "metadata": {},
   "outputs": [],
   "source": [
    "for i in range(1, 6):\n",
    "    print()\n",
    "    for j in range(1, i+1):\n",
    "        print(j, end = ' ')"
   ]
  },
  {
   "attachments": {},
   "cell_type": "markdown",
   "metadata": {},
   "source": [
    "4.49\n",
    "\n",
    "Write a program to print the following pattern\n",
    " 1 \n",
    " 2 2\n",
    " 3 3 3\n",
    " 4 4 4 4\n",
    " 5 5 5 5 5"
   ]
  },
  {
   "cell_type": "code",
   "execution_count": null,
   "metadata": {},
   "outputs": [],
   "source": [
    "for i in range(1,6):\n",
    "    print()\n",
    "    for j in range(1, i+1):\n",
    "        print(i, end=' ')"
   ]
  },
  {
   "attachments": {},
   "cell_type": "markdown",
   "metadata": {},
   "source": [
    "4.50\n",
    "\n",
    "Write a program to print the following pattern\n",
    "\n",
    "\n",
    "0\n",
    "12\n",
    "345\n",
    "6789\n"
   ]
  },
  {
   "cell_type": "code",
   "execution_count": null,
   "metadata": {},
   "outputs": [],
   "source": [
    "count = 0\n",
    "for i in range(1, 5):\n",
    "    print() # prints a new line\n",
    "    for j in range(1, i + 1):\n",
    "        print(count, end = '')\n",
    "        count += 1"
   ]
  },
  {
   "attachments": {},
   "cell_type": "markdown",
   "metadata": {},
   "source": [
    "4.51\n",
    "\n",
    "Write a program to print the following pattern.\n",
    "         1 \n",
    "       1 2 \n",
    "     1 2 3\n",
    "   1 2 3 4\n",
    " 1 2 3 4 5"
   ]
  },
  {
   "cell_type": "code",
   "execution_count": null,
   "metadata": {},
   "outputs": [],
   "source": [
    "N= 5\n",
    "for i in range(1, N+1):\n",
    "    for k in range(N, i, -1):\n",
    "        print(' ', end=' ')\n",
    "    for j in range(1, i+1):\n",
    "        print(j, end=' ')\n",
    "    print()"
   ]
  },
  {
   "attachments": {},
   "cell_type": "markdown",
   "metadata": {},
   "source": [
    "4.52\n",
    "\n",
    "Write a program to print the following pattern\n",
    "\n",
    "\n",
    "\n",
    "       1\n",
    "     1 2 1\n",
    "   1 2 3 2 1\n",
    " 1 2 3 4 3 2 1 \n",
    "1 2 3 4 5 4 3 2 1"
   ]
  },
  {
   "cell_type": "code",
   "execution_count": null,
   "metadata": {},
   "outputs": [],
   "source": [
    "N = 5\n",
    "for i in range(1, N+1):\n",
    "    for k in range(N, i, -1):\n",
    "        print(' ', end=' ')\n",
    "    for j in range(1, i+1):\n",
    "        print(j, end=' ')\n",
    "    for l in range(i-1, 0, -1):\n",
    "        print(l, end=' ')\n",
    "    print()"
   ]
  },
  {
   "attachments": {},
   "cell_type": "markdown",
   "metadata": {},
   "source": [
    "4.53\n",
    "\n",
    "Write a program to print the following pattern\n",
    "     1 \n",
    "    2 2 \n",
    "   3 3 3\n",
    "  4 4 4 4\n",
    " 5 5 5 5 5"
   ]
  },
  {
   "cell_type": "code",
   "execution_count": null,
   "metadata": {},
   "outputs": [],
   "source": [
    "N= 5\n",
    "for i in range(1, N+1):\n",
    "    for _ in range(N, i, -1):\n",
    "        print('', end=' ')\n",
    "    for _ in range(1, i+1):\n",
    "        print(i, end=' ')\n",
    "    print()"
   ]
  },
  {
   "attachments": {},
   "cell_type": "markdown",
   "metadata": {},
   "source": [
    "4.54\n",
    "\n",
    "Write a program to calculate the square root of a number. Demonstrate the use of break and continue statement"
   ]
  },
  {
   "cell_type": "code",
   "execution_count": null,
   "metadata": {},
   "outputs": [],
   "source": [
    "import math\n",
    "total_prime = 0\n",
    "total_composite = 0\n",
    "\n",
    "while 1:\n",
    "    num = int(input('Enter no. '))\n",
    "    if num == 999:\n",
    "        break\n",
    "    elif num < 0:\n",
    "        print('Square root of negative numbers cannot be calculated')\n",
    "        continue\n",
    "    else:\n",
    "        print(f'Square root of {num} = {math.sqrt(num)}')\n"
   ]
  },
  {
   "attachments": {},
   "cell_type": "markdown",
   "metadata": {},
   "source": [
    "4.55\n",
    "\n",
    " Write a program that prompts users to enter numbers. The process will repeat until user enters -1. \n",
    " Finally, the program prints the count of prime and composite numbers entered.\n"
   ]
  },
  {
   "cell_type": "code",
   "execution_count": null,
   "metadata": {},
   "outputs": [],
   "source": [
    "print('Enter -1 to quit')\n",
    "\n",
    "prime_count= 0\n",
    "comp_count= 0\n",
    "\n",
    "n= int(input('Enter the number: '))\n",
    "while n != -1:\n",
    "    flag= 0\n",
    "    for i in range(2,n):\n",
    "        if n % i == 0:\n",
    "            flag= 1\n",
    "            break\n",
    "\n",
    "    if flag == 0:\n",
    "        prime_count += 1\n",
    "    \n",
    "    else:\n",
    "        comp_count += 1\n",
    "\n",
    "    n= int(input('Enter the number: '))\n",
    "\n",
    "print(f'Number of prime numbers is : {prime_count}')\n",
    "print(f'Number of composite numbers is : {comp_count}')\n"
   ]
  },
  {
   "attachments": {},
   "cell_type": "markdown",
   "metadata": {},
   "source": [
    "4.56\n",
    "\n",
    "Using a for loop, write a program that prints out the decimal equivalents of 1/2, 1/3, 1/4,...,1/10\n"
   ]
  },
  {
   "cell_type": "code",
   "execution_count": null,
   "metadata": {},
   "outputs": [],
   "source": [
    "for i in range(1, 10):\n",
    "    print('1/', i, ' = %f' %(1.0/i))"
   ]
  }
 ],
 "metadata": {
  "kernelspec": {
   "display_name": "Python 3",
   "language": "python",
   "name": "python3"
  },
  "language_info": {
   "codemirror_mode": {
    "name": "ipython",
    "version": 3
   },
   "file_extension": ".py",
   "mimetype": "text/x-python",
   "name": "python",
   "nbconvert_exporter": "python",
   "pygments_lexer": "ipython3",
   "version": "3.11.1"
  },
  "orig_nbformat": 4
 },
 "nbformat": 4,
 "nbformat_minor": 2
}
