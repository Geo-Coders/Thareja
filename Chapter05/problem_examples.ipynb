{
 "cells": [
  {
   "cell_type": "code",
   "execution_count": null,
   "metadata": {},
   "outputs": [],
   "source": []
  },
  {
   "attachments": {},
   "cell_type": "markdown",
   "metadata": {},
   "source": [
    "5.1 \n",
    "\n",
    "Write a program using functions to check whether two numbers are equal or not"
   ]
  },
  {
   "cell_type": "code",
   "execution_count": null,
   "metadata": {},
   "outputs": [],
   "source": [
    "def check_relation(a,b):\n",
    "    if a == b:\n",
    "        return 0\n",
    "\n",
    "    elif a > b:\n",
    "        return 1\n",
    "\n",
    "    else:\n",
    "        return -1\n",
    "\n",
    "a= int(input('Enter the first number: '))\n",
    "b= int(input('Enter the second number: '))\n",
    "\n",
    "res= check_relation(a,b)\n",
    "if res == 0:\n",
    "    print(f'{a} is equal to {b}')\n",
    "\n",
    "elif res == 1:\n",
    "    print(f'{a} is greater than {b}')\n",
    "\n",
    "else:\n",
    "    print(f'{a} is less than {b}')"
   ]
  },
  {
   "attachments": {},
   "cell_type": "markdown",
   "metadata": {},
   "source": [
    "5.2 \n",
    "\n",
    "Write a program to swap two numbers"
   ]
  },
  {
   "cell_type": "code",
   "execution_count": null,
   "metadata": {},
   "outputs": [],
   "source": [
    "def swap(a, b):\n",
    "    a, b = b, a\n",
    "    print('After swap : ')\n",
    "    print(f'First number = {a}')\n",
    "    print(f'Second number = {b}')\n",
    "\n",
    "\n",
    "a = input('\\n Enter the first number : ')\n",
    "b = input('\\n Enter the second number : ')\n",
    "print('Before swap : ')\n",
    "print(f'first number = {a}')\n",
    "print(f'Second number = {b}')\n",
    "swap(a, b)\n"
   ]
  },
  {
   "attachments": {},
   "cell_type": "markdown",
   "metadata": {},
   "source": [
    "5.3\n",
    "\n",
    "Write a program to return the full name of a person"
   ]
  },
  {
   "cell_type": "code",
   "execution_count": null,
   "metadata": {},
   "outputs": [],
   "source": [
    "from tkinter.ttk import Separator\n",
    "\n",
    "\n",
    "def name(first_name, last_name):\n",
    "    name_= f'{first_name} {last_name}'\n",
    "    return name_\n",
    "\n",
    "first_name= input('Enter your first name: ')\n",
    "last_name= input('Enter your last name: ')\n",
    "\n",
    "print(name(first_name, last_name))"
   ]
  },
  {
   "attachments": {},
   "cell_type": "markdown",
   "metadata": {},
   "source": [
    "5.4\n",
    "\n",
    "Write a program to return the average of it's argument"
   ]
  },
  {
   "cell_type": "code",
   "execution_count": null,
   "metadata": {},
   "outputs": [],
   "source": [
    "def avg(n1, n2):\n",
    "    return (n1 + n2)/2.0\n",
    "\n",
    "\n",
    "n1 = int(input('Enter the first number : '))\n",
    "n2 = int(input('Enter the second number : '))\n",
    "print(f'AVERAGE = {avg(n1,n2)}')\n"
   ]
  },
  {
   "attachments": {},
   "cell_type": "markdown",
   "metadata": {},
   "source": [
    "5.5\n",
    "\n",
    "Write a program using functions and return statement to check whether a number is even or odd"
   ]
  },
  {
   "cell_type": "code",
   "execution_count": null,
   "metadata": {},
   "outputs": [],
   "source": [
    "from cgi import print_directory\n",
    "\n",
    "\n",
    "def is_even(a):\n",
    "    if a % 2 == 0:\n",
    "        return 1\n",
    "\n",
    "    else:\n",
    "        return 0\n",
    "\n",
    "num= eval(input('Enter the number: '))\n",
    "flag= is_even(num)\n",
    "\n",
    "if flag == 1:\n",
    "    print(f'{num} is an even number')\n",
    "\n",
    "else:\n",
    "    print(f'{num} is an odd number')\n"
   ]
  },
  {
   "attachments": {},
   "cell_type": "markdown",
   "metadata": {},
   "source": [
    "5.5 \n",
    "\n",
    "Write a program to convert time into minutes"
   ]
  },
  {
   "cell_type": "code",
   "execution_count": null,
   "metadata": {},
   "outputs": [],
   "source": [
    "def convert_time_in_min(hrs, minute):\n",
    "    minute = hrs * 60 + minute\n",
    "    return minute\n",
    "\n",
    "\n",
    "h = int(input('Enter the hours : '))\n",
    "m = int(input('Enter the minutes : '))\n",
    "m = convert_time_in_min(h, m)\n",
    "print(f'Minutes = {m}')\n"
   ]
  },
  {
   "attachments": {},
   "cell_type": "markdown",
   "metadata": {},
   "source": [
    "5.7\n",
    "\n",
    "# Write a program to calculate simple interest. Suppose the customer is a senior citizen. He is being offered 12% rate of interest, for all other customers,the ROI is 10%.\n",
    "\n"
   ]
  },
  {
   "cell_type": "code",
   "execution_count": null,
   "metadata": {},
   "outputs": [],
   "source": [
    "def interest(principle, num_of_years, is_senior_citizen):\n",
    "    if is_senior_citizen.lower() == 'y':\n",
    "        simple_interest= float((principle * num_of_years *12)/100)\n",
    "\n",
    "    else:\n",
    "        simple_interest= float((principle * num_of_years *10)/100)\n",
    "\n",
    "    return simple_interest\n",
    "\n",
    "principle_= float(input('Enter the principle amount: '))\n",
    "num_of_years_= float(input('Enter the number of years: '))\n",
    "Is_senior_citizen= input('Is customer a senior citizen(y/n): ')\n",
    "\n",
    "print()\n",
    "\n",
    "print(f'Interest : {round(interest(principle_, num_of_years_, Is_senior_citizen),2)}')"
   ]
  },
  {
   "attachments": {},
   "cell_type": "markdown",
   "metadata": {},
   "source": [
    "5.8\n",
    "\n",
    "Write a program to calculate the volume of a cuboid using default arguments"
   ]
  },
  {
   "cell_type": "code",
   "execution_count": null,
   "metadata": {},
   "outputs": [],
   "source": [
    "def volume(l=4, w=3, h=4):\n",
    "    print(f'length : {l} \\tWidth : {w} \\tHeight : {h}')\n",
    "    return l * w * h\n",
    "\n",
    "\n",
    "print(f'Volume : {volume(4,6,2)}')\n",
    "print(f'Volume : {volume(4,6)}')\n",
    "print(f'Volume : {volume(4)}')\n"
   ]
  },
  {
   "attachments": {},
   "cell_type": "markdown",
   "metadata": {},
   "source": [
    "5.9\n",
    "\n",
    "rite a program that computes P(n,r)\n",
    " Hint P- Permutation\n"
   ]
  },
  {
   "cell_type": "code",
   "execution_count": null,
   "metadata": {},
   "outputs": [],
   "source": [
    "def fact(n):\n",
    "    f= 1\n",
    "    if n == 0 or n == 1:\n",
    "        return 1\n",
    "\n",
    "    else:\n",
    "        for i in range(1, int(n+1)):\n",
    "            f *= i\n",
    "\n",
    "    return f  \n",
    "\n",
    "n= eval(input('Enter the value of n: '))\n",
    "r= eval(input('Enter the value of r: '))\n",
    "\n",
    "print()\n",
    "\n",
    "result= float(fact(n))/float(fact(r))\n",
    "print(f'P( {n}/{r} ) = {result}')"
   ]
  },
  {
   "attachments": {},
   "cell_type": "markdown",
   "metadata": {},
   "source": [
    "5.10\n",
    "\n",
    "Write a program to sum the series 1/1! + 4/2! + 27/3!+..\n"
   ]
  },
  {
   "cell_type": "code",
   "execution_count": null,
   "metadata": {},
   "outputs": [],
   "source": [
    "def fact(n):\n",
    "    f = 1\n",
    "    if n==0 or n==1:\n",
    "        return 1\n",
    "    else:\n",
    "        for i in range(1, int(n+1)):\n",
    "            f = f*i\n",
    "    return f\n",
    "n = int(input('Enter the value of n : '))\n",
    "sum = 0.0\n",
    "for i in range(1,n+1):\n",
    "    sum = sum + (float(i**i)/fact(i))\n",
    "print(f'Result : {sum}')"
   ]
  },
  {
   "attachments": {},
   "cell_type": "markdown",
   "metadata": {},
   "source": [
    "5.11\n",
    "\n",
    "Write a program that uses docstrings and variable-length arguments to add the value passed to the function."
   ]
  },
  {
   "cell_type": "code",
   "execution_count": null,
   "metadata": {},
   "outputs": [],
   "source": [
    "def add(*args):\n",
    "    \"\"\" Function returns the sum of values passed to it \"\"\"\n",
    "    sum= 0\n",
    "    for i in args:\n",
    "        sum += 1\n",
    "    return sum\n",
    "\n",
    "print(add.__doc__)\n",
    "print()\n",
    "print(f'SUM = {add(25,30,45,50)}')\n",
    "print()"
   ]
  },
  {
   "attachments": {},
   "cell_type": "markdown",
   "metadata": {},
   "source": [
    "5.12\n",
    "\n",
    "Write a program that greets a person"
   ]
  },
  {
   "cell_type": "code",
   "execution_count": null,
   "metadata": {},
   "outputs": [],
   "source": [
    "def greet(name, mesg):\n",
    "    # This function welcomes the person passed whose name is passed as parameter\n",
    "    print('Welcome,' + name + ',' + mesg)\n",
    "\n",
    "\n",
    "mesg = 'Happy reading python is fun !'\n",
    "name = input('\\n Enter your name : ')\n",
    "greet(name, mesg)\n"
   ]
  },
  {
   "attachments": {},
   "cell_type": "markdown",
   "metadata": {},
   "source": [
    "5.13\n",
    "\n",
    "Write a program to print the following pattern using default arguments\n",
    "& & & & & &\n",
    "* * * * * *\n",
    "* * *\n",
    "* * *"
   ]
  },
  {
   "cell_type": "code",
   "execution_count": null,
   "metadata": {},
   "outputs": [],
   "source": [
    "def pattern(c='&', n=6, r=1):\n",
    "    for i in range(r):\n",
    "        print()\n",
    "        for j in range(n):\n",
    "            print(c, end=' ')\n",
    "\n",
    "\n",
    "c = input('Enter the character to be displayed: ')\n",
    "n = int(input('Enter the number of rows: '))\n",
    "m = int(input('Enter the number of columns: '))\n",
    "\n",
    "pattern()\n",
    "pattern(c)\n",
    "pattern(c, n)\n",
    "pattern(c, n, m)\n"
   ]
  },
  {
   "attachments": {},
   "cell_type": "markdown",
   "metadata": {},
   "source": [
    "5.14\n",
    "\n",
    "Write a program to calculate GCD using recursive functions\n"
   ]
  },
  {
   "cell_type": "code",
   "execution_count": null,
   "metadata": {},
   "outputs": [],
   "source": [
    "def GCD(x, y):\n",
    "    rem = x % y\n",
    "    if rem == 0:\n",
    "        return y\n",
    "    else:\n",
    "        return GCD(y, rem)\n",
    "\n",
    "\n",
    "n = int(input('Enter the first number : '))\n",
    "m = int(input('Enter the second number : '))\n",
    "print(f'The GCD is {GCD(m,n)}')\n"
   ]
  },
  {
   "attachments": {},
   "cell_type": "markdown",
   "metadata": {},
   "source": [
    "5.15\n",
    "\n",
    "Write a program to calculate exp(x,y) using recursive functions.\n"
   ]
  },
  {
   "cell_type": "code",
   "execution_count": null,
   "metadata": {},
   "outputs": [],
   "source": [
    "def exp_rec(x, y):\n",
    "    if y == 0:\n",
    "        return 1\n",
    "\n",
    "    else:\n",
    "        return (x*exp_rec(x, y-1))\n",
    "\n",
    "\n",
    "n = int(input('Enter the first number: '))\n",
    "m = int(input('Enter the second number: '))\n",
    "\n",
    "print()\n",
    "\n",
    "print(f'Result = {exp_rec(n,m)}')\n",
    "\n",
    "print()\n"
   ]
  },
  {
   "attachments": {},
   "cell_type": "markdown",
   "metadata": {},
   "source": [
    "5.16\n",
    "\n",
    "Write a program to print the Fibonacci series using recursion\n"
   ]
  },
  {
   "cell_type": "code",
   "execution_count": null,
   "metadata": {},
   "outputs": [],
   "source": [
    "def fibonacci(n):\n",
    "    if n<2:\n",
    "        return 1\n",
    "    return (fibonacci(n-1) + fibonacci(n-2))\n",
    "n = int(input('Enter the number of terms : '))\n",
    "for i in range(n):\n",
    "    print('Fibonacci(',i,') =', fibonacci(i))"
   ]
  },
  {
   "attachments": {},
   "cell_type": "markdown",
   "metadata": {},
   "source": [
    "5.17\n",
    "\n",
    "Write a program to count number of times a recursive function is called."
   ]
  },
  {
   "cell_type": "code",
   "execution_count": null,
   "metadata": {},
   "outputs": [],
   "source": [
    "def func(n, count=0):\n",
    "    if n==0:\n",
    "        return count\n",
    "\n",
    "    else:\n",
    "        return func(n-1, count+1)\n",
    "\n",
    "print(f'Number of times recursive function was invoked = {func(500)}')"
   ]
  },
  {
   "attachments": {},
   "cell_type": "markdown",
   "metadata": {},
   "source": [
    "5.18\n",
    "\n",
    "Write a program to add two numbers that are given using command line arguments\n"
   ]
  },
  {
   "cell_type": "code",
   "execution_count": null,
   "metadata": {},
   "outputs": [],
   "source": [
    "import sys\n",
    "a = int(sys.argv[1])\n",
    "b = int(sys.argv[2])\n",
    "sum = a+b\n",
    "print(f'SUM = {sum}')"
   ]
  },
  {
   "attachments": {},
   "cell_type": "markdown",
   "metadata": {},
   "source": [
    "5.19\n",
    "\n",
    "Write a program that prints absolute value, square root, and cube of a number."
   ]
  },
  {
   "cell_type": "code",
   "execution_count": null,
   "metadata": {},
   "outputs": [],
   "source": [
    "import math\n",
    "\n",
    "def cube(x):\n",
    "    return x**3\n",
    "\n",
    "a= -100\n",
    "print(f'a = {a}')\n",
    "\n",
    "a= abs(a)\n",
    "\n",
    "print(f'abs(a) = {a}')\n",
    "print(f'Square root of {a} = {math.sqrt(a)}')\n",
    "print(f'Cube of {a} = {cube(a)}')\n"
   ]
  },
  {
   "attachments": {},
   "cell_type": "markdown",
   "metadata": {},
   "source": [
    "5.20\n",
    "\n",
    "Write a program to generate 10 random numbers between 1 to 100\n"
   ]
  },
  {
   "cell_type": "code",
   "execution_count": null,
   "metadata": {},
   "outputs": [],
   "source": [
    "import random\n",
    "\n",
    "for i in range(10):\n",
    "    value = random.randint(1,100)\n",
    "    print(value)"
   ]
  },
  {
   "attachments": {},
   "cell_type": "markdown",
   "metadata": {},
   "source": [
    "5.21\n",
    "\n",
    "Write a program to display the date and time using the Time Module"
   ]
  },
  {
   "cell_type": "code",
   "execution_count": null,
   "metadata": {},
   "outputs": [],
   "source": [
    "import time\n",
    "\n",
    "localtime= time.asctime(time.localtime(time.time()))\n",
    "\n",
    "print()\n",
    "\n",
    "print(f'Local current time: {localtime}')\n",
    "\n",
    "print()"
   ]
  },
  {
   "attachments": {},
   "cell_type": "markdown",
   "metadata": {},
   "source": [
    "5.22\n",
    "\n",
    " Write a program that prints the calender of a particular month"
   ]
  },
  {
   "cell_type": "code",
   "execution_count": null,
   "metadata": {},
   "outputs": [],
   "source": [
    "import calendar\n",
    "print(calendar.month(2017,1))"
   ]
  },
  {
   "attachments": {},
   "cell_type": "markdown",
   "metadata": {},
   "source": [
    "5.23\n",
    "\n",
    " Write a program that uses the getpass module to prompt the user for a password, without echoing what they type to the console"
   ]
  },
  {
   "cell_type": "code",
   "execution_count": null,
   "metadata": {},
   "outputs": [],
   "source": [
    "import getpass\n",
    "\n",
    "password= getpass.getpass(prompt='Enter the password: ')\n",
    "print()\n",
    "if password == 'oxford':\n",
    "    print('Welcome to the world of python Programming.')\n",
    "else:\n",
    "    print('Incorrect password... Sorry, you cannot read out book')"
   ]
  }
 ],
 "metadata": {
  "language_info": {
   "name": "python"
  },
  "orig_nbformat": 4
 },
 "nbformat": 4,
 "nbformat_minor": 2
}
